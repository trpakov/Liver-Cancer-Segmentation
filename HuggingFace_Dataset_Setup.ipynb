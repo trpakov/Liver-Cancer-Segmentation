{
  "nbformat": 4,
  "nbformat_minor": 0,
  "metadata": {
    "colab": {
      "provenance": []
    },
    "kernelspec": {
      "name": "python3",
      "display_name": "Python 3"
    },
    "language_info": {
      "name": "python"
    },
    "accelerator": "GPU",
    "gpuClass": "standard"
  },
  "cells": [
    {
      "cell_type": "markdown",
      "source": [
        "# HuggingFace Dataset Setup\n",
        "\n",
        "This notebook accesses the [Liver Tumor Segmentation dataset images](https://www.kaggle.com/datasets/trpakov/liver-cancer-segmentation) from kaggle, converts them into a [HuggingFace Dataset object](https://huggingface.co/docs/datasets/index) and pushes the result to the [HuggingFace Hub](https://huggingface.co/docs/hub/index) for easier usage during model fine-tuning. "
      ],
      "metadata": {
        "id": "CPnHpkmlyig3"
      }
    },
    {
      "cell_type": "code",
      "source": [
        "# Installation of required Python packages\n",
        "!pip install transformers datasets"
      ],
      "metadata": {
        "id": "UxlxB5_v1-dm"
      },
      "execution_count": null,
      "outputs": []
    },
    {
      "cell_type": "code",
      "source": [
        "# Importing required Python packages\n",
        "from huggingface_hub import login\n",
        "from datasets import DatasetDict"
      ],
      "metadata": {
        "id": "-42tjX5n2qDL"
      },
      "execution_count": null,
      "outputs": []
    },
    {
      "cell_type": "code",
      "source": [
        "# Authentication with HuggingFace\n",
        "login(token='PASTE_HF_TOKEN_HERE', add_to_git_credential=True)"
      ],
      "metadata": {
        "id": "Y-zJl44F2Aw6"
      },
      "execution_count": null,
      "outputs": []
    },
    {
      "cell_type": "code",
      "source": [
        "# Kaggle credentials\n",
        "%env KAGGLE_USERNAME=ENTER_KAGGLE_USERNAME\n",
        "%env KAGGLE_KEY=ENTER_KAGGLE_KEY"
      ],
      "metadata": {
        "id": "24L8SlVP1oAR"
      },
      "execution_count": null,
      "outputs": []
    },
    {
      "cell_type": "code",
      "source": [
        "# Download the dataset using the kaggle CLI tool\n",
        "!kaggle datasets download trpakov/liver-cancer-segmentation"
      ],
      "metadata": {
        "colab": {
          "base_uri": "https://localhost:8080/"
        },
        "id": "OiQlGG0Pgywf",
        "outputId": "00309a99-52e9-4f8d-8718-2874e8e8af18"
      },
      "execution_count": null,
      "outputs": [
        {
          "output_type": "stream",
          "name": "stdout",
          "text": [
            "Downloading liver-cancer-segmentation.zip to /content\n",
            "100% 4.22G/4.23G [00:33<00:00, 111MB/s]\n",
            "100% 4.23G/4.23G [00:33<00:00, 137MB/s]\n"
          ]
        }
      ]
    },
    {
      "cell_type": "code",
      "source": [
        "# Unsip the downloaded archive\n",
        "!unzip liver-cancer-segmentation.zip > /dev/null"
      ],
      "metadata": {
        "id": "RaNCqe9_hGYB"
      },
      "execution_count": null,
      "outputs": []
    },
    {
      "cell_type": "code",
      "source": [
        "# Create a dict with the training images and segmentation masks paths\n",
        "train_dict = {'image': [], 'annotation': []}\n",
        "for path in Path('liver-segmentation/train/images').glob('*'):\n",
        "  train_dict['image'].append(path.as_posix())\n",
        "  train_dict['annotation'].append((path.parent.parent / 'masks' / f'{path.stem}_mask.png').as_posix())"
      ],
      "metadata": {
        "id": "HhjgN6Jfhk5A"
      },
      "execution_count": null,
      "outputs": []
    },
    {
      "cell_type": "code",
      "source": [
        "# Create a dict with the validation images and segmentation masks paths\n",
        "val_dict = {'image': [], 'annotation': []}\n",
        "for path in Path('liver-segmentation/val/images').glob('*'):\n",
        "  val_dict['image'].append(path.as_posix())\n",
        "  val_dict['annotation'].append((path.parent.parent / 'masks' / f'{path.stem}_mask.png').as_posix())"
      ],
      "metadata": {
        "id": "jpDxv4WEi1j_"
      },
      "execution_count": null,
      "outputs": []
    },
    {
      "cell_type": "code",
      "source": [
        "# Create a dict with the testing images and segmentation masks paths\n",
        "test_dict = {'image': [], 'annotation': []}\n",
        "for path in Path('liver-segmentation/test/images').glob('*'):\n",
        "  test_dict['image'].append(path.as_posix())\n",
        "  test_dict['annotation'].append((path.parent.parent / 'masks' / f'{path.stem}_mask.png').as_posix())"
      ],
      "metadata": {
        "id": "6EUU1S6ti12j"
      },
      "execution_count": null,
      "outputs": []
    },
    {
      "cell_type": "code",
      "source": [
        "# Create the Dataset objects for each set\n",
        "train = Dataset.from_dict(train_dict).cast_column(\"image\", Image()).cast_column(\"annotation\", Image())\n",
        "val = Dataset.from_dict(val_dict).cast_column(\"image\", Image()).cast_column(\"annotation\", Image())\n",
        "test = Dataset.from_dict(test_dict).cast_column(\"image\", Image()).cast_column(\"annotation\", Image())"
      ],
      "metadata": {
        "id": "HD14o1DXcoWY"
      },
      "execution_count": null,
      "outputs": []
    },
    {
      "cell_type": "code",
      "source": [
        "# Create a DatasetDict object that can be used as a common interface for the different data subsets\n",
        "ds = DatasetDict(train=train, val=val, test=test)"
      ],
      "metadata": {
        "id": "7xg4N09m6Mgn"
      },
      "execution_count": null,
      "outputs": []
    },
    {
      "cell_type": "code",
      "source": [
        "# Push the datasets to HuggingFace\n",
        "ds.push_to_hub('liver-cancer-segmentation', private=True)"
      ],
      "metadata": {
        "id": "F0yGpzIX6lgg"
      },
      "execution_count": null,
      "outputs": []
    }
  ]
}