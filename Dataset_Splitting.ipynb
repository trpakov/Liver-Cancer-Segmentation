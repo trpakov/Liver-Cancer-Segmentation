{
 "cells": [
  {
   "cell_type": "markdown",
   "metadata": {},
   "source": [
    "# Dataset Splitting\n",
    "\n",
    "This notebook loads the locally saved dataset after [NII Files Processing](https://colab.research.google.com/drive/1skyOup7LPY3kJWPREMSkowqNeRgtACx8?usp=sharing) and splits it into training, testing and validation subsets. The result is uploaded to Kaggle for subsequent processing."
   ]
  },
  {
   "cell_type": "code",
   "execution_count": 1,
   "metadata": {},
   "outputs": [],
   "source": [
    "# Import required packages\n",
    "import pandas as pd\n",
    "import numpy as np\n",
    "from pathlib import Path\n",
    "from PIL import Image\n",
    "import shutil\n",
    "import matplotlib.pyplot as plt"
   ]
  },
  {
   "cell_type": "code",
   "execution_count": 2,
   "metadata": {},
   "outputs": [],
   "source": [
    "# Load the image and mask file paths, as well as the number of segments into a Python dict\n",
    "# 0 - only background, 1 - backgorund and liver, 2 - background, liver and tumor\n",
    "info = {'filepath': [], 'maskpath': [], 'segments': []}\n",
    "\n",
    "for i, path in enumerate(Path('liver/images').glob('*')):\n",
    "    info['filepath'].append(path)\n",
    "    maskpath = Path('liver_masks') / 'masks' / f'{path.stem}_mask.png'\n",
    "    info['maskpath'].append(maskpath)\n",
    "    info['segments'].append(np.array(Image.open(maskpath)).max())\n"
   ]
  },
  {
   "cell_type": "code",
   "execution_count": 3,
   "metadata": {},
   "outputs": [
    {
     "data": {
      "text/html": [
       "<div>\n",
       "<style scoped>\n",
       "    .dataframe tbody tr th:only-of-type {\n",
       "        vertical-align: middle;\n",
       "    }\n",
       "\n",
       "    .dataframe tbody tr th {\n",
       "        vertical-align: top;\n",
       "    }\n",
       "\n",
       "    .dataframe thead th {\n",
       "        text-align: right;\n",
       "    }\n",
       "</style>\n",
       "<table border=\"1\" class=\"dataframe\">\n",
       "  <thead>\n",
       "    <tr style=\"text-align: right;\">\n",
       "      <th></th>\n",
       "      <th>filepath</th>\n",
       "      <th>maskpath</th>\n",
       "      <th>segments</th>\n",
       "    </tr>\n",
       "  </thead>\n",
       "  <tbody>\n",
       "    <tr>\n",
       "      <th>8481</th>\n",
       "      <td>liver\\images\\volume-110_slice_329.jpg</td>\n",
       "      <td>liver_masks\\masks\\volume-110_slice_329_mask.png</td>\n",
       "      <td>0</td>\n",
       "    </tr>\n",
       "    <tr>\n",
       "      <th>56360</th>\n",
       "      <td>liver\\images\\volume-97_slice_293.jpg</td>\n",
       "      <td>liver_masks\\masks\\volume-97_slice_293_mask.png</td>\n",
       "      <td>0</td>\n",
       "    </tr>\n",
       "    <tr>\n",
       "      <th>30934</th>\n",
       "      <td>liver\\images\\volume-27_slice_78.jpg</td>\n",
       "      <td>liver_masks\\masks\\volume-27_slice_78_mask.png</td>\n",
       "      <td>0</td>\n",
       "    </tr>\n",
       "    <tr>\n",
       "      <th>56226</th>\n",
       "      <td>liver\\images\\volume-97_slice_172.jpg</td>\n",
       "      <td>liver_masks\\masks\\volume-97_slice_172_mask.png</td>\n",
       "      <td>0</td>\n",
       "    </tr>\n",
       "    <tr>\n",
       "      <th>40197</th>\n",
       "      <td>liver\\images\\volume-65_slice_386.jpg</td>\n",
       "      <td>liver_masks\\masks\\volume-65_slice_386_mask.png</td>\n",
       "      <td>1</td>\n",
       "    </tr>\n",
       "  </tbody>\n",
       "</table>\n",
       "</div>"
      ],
      "text/plain": [
       "                                    filepath  \\\n",
       "8481   liver\\images\\volume-110_slice_329.jpg   \n",
       "56360   liver\\images\\volume-97_slice_293.jpg   \n",
       "30934    liver\\images\\volume-27_slice_78.jpg   \n",
       "56226   liver\\images\\volume-97_slice_172.jpg   \n",
       "40197   liver\\images\\volume-65_slice_386.jpg   \n",
       "\n",
       "                                              maskpath  segments  \n",
       "8481   liver_masks\\masks\\volume-110_slice_329_mask.png         0  \n",
       "56360   liver_masks\\masks\\volume-97_slice_293_mask.png         0  \n",
       "30934    liver_masks\\masks\\volume-27_slice_78_mask.png         0  \n",
       "56226   liver_masks\\masks\\volume-97_slice_172_mask.png         0  \n",
       "40197   liver_masks\\masks\\volume-65_slice_386_mask.png         1  "
      ]
     },
     "execution_count": 3,
     "metadata": {},
     "output_type": "execute_result"
    }
   ],
   "source": [
    "# Convert the dicto into a DataFrame abd Show five random rows\n",
    "df = pd.DataFrame(info)\n",
    "df.sample(5)"
   ]
  },
  {
   "cell_type": "code",
   "execution_count": 5,
   "metadata": {},
   "outputs": [
    {
     "name": "stdout",
     "output_type": "stream",
     "text": [
      "Number of background images: 39475\n",
      "Number of liver images: 11973\n",
      "Number of tumor images: 7190\n",
      "Percentage of background images: 67.32%\n",
      "Percentage of liver images: 20.42%\n",
      "Percentage of tumor images: 12.26%\n"
     ]
    }
   ],
   "source": [
    "len_bg = len(df[df.segments == 0])\n",
    "len_liver = len(df[df.segments == 1])\n",
    "len_tumor = len(df[df.segments == 2])\n",
    "\n",
    "print('Number of background images:', len_bg)\n",
    "print('Number of liver images:', len_liver)\n",
    "print('Number of tumor images:', len_tumor)\n",
    "\n",
    "print(f'Percentage of background images: {(len_bg / len(df)):.2%}')\n",
    "print(f'Percentage of liver images: {(len_liver / len(df)):.2%}')\n",
    "print(f'Percentage of tumor images: {(len_tumor / len(df)):.2%}')"
   ]
  },
  {
   "cell_type": "code",
   "execution_count": 6,
   "metadata": {},
   "outputs": [
    {
     "data": {
      "image/png": "[encoded data removed]",
      "text/plain": [
       "<Figure size 432x288 with 1 Axes>"
      ]
     },
     "metadata": {
      "needs_background": "light"
     },
     "output_type": "display_data"
    }
   ],
   "source": [
    "fig, ax = plt.subplots()\n",
    "ax.bar(('Background', 'Liver', 'Tumor'), (len_bg, len_liver, len_tumor), color='gold')\n",
    "ax.set_title('Number of images by type')\n",
    "plt.show()"
   ]
  },
  {
   "cell_type": "code",
   "execution_count": 7,
   "metadata": {},
   "outputs": [
    {
     "data": {
      "image/png": "[encoded data removed]",
      "text/plain": [
       "<Figure size 432x288 with 1 Axes>"
      ]
     },
     "metadata": {},
     "output_type": "display_data"
    }
   ],
   "source": [
    "fig, ax = plt.subplots()\n",
    "ax.pie((len_bg, len_liver, len_tumor), labels=('Background', 'Liver', 'Tumor'), autopct='%.2f%%')\n",
    "ax.set_title('Percentage of each image type')\n",
    "plt.show()"
   ]
  },
  {
   "cell_type": "code",
   "execution_count": 8,
   "metadata": {},
   "outputs": [],
   "source": [
    "# Separate the images into different DataFrames, removing the inbalance between them\n",
    "dft = df[df.segments == 2] # All Tumor images (7190)\n",
    "dfl = df[df.segments == 1].sample(len_tumor) # 7190 Liver images (Same as Tumor)\n",
    "dfb = df[df.segments == 0].sample(len_tumor // 2) # 3595 Background images (half as many as Liver and Tumor ones)\n",
    "ds = pd.concat([dft, dfl, dfb], ignore_index=True)"
   ]
  },
  {
   "cell_type": "code",
   "execution_count": 9,
   "metadata": {},
   "outputs": [
    {
     "name": "stdout",
     "output_type": "stream",
     "text": [
      "Total number of selected images: 17975\n"
     ]
    }
   ],
   "source": [
    "print('Total number of selected images:', len(ds))"
   ]
  },
  {
   "cell_type": "code",
   "execution_count": 10,
   "metadata": {},
   "outputs": [
    {
     "name": "stdout",
     "output_type": "stream",
     "text": [
      "Number of background images: 3595\n",
      "Number of liver images: 7190\n",
      "Number of tumor images: 7190\n",
      "Percentage of background images: 20.00%\n",
      "Percentage of liver images: 40.00%\n",
      "Percentage of tumor images: 40.00%\n"
     ]
    }
   ],
   "source": [
    "print('Number of background images:', len(dfb))\n",
    "print('Number of liver images:', len(dfl))\n",
    "print('Number of tumor images:', len(dft))\n",
    "\n",
    "print(f'Percentage of background images: {(len(dfb) / len(ds)):.2%}')\n",
    "print(f'Percentage of liver images: {(len(dfl) / len(ds)):.2%}')\n",
    "print(f'Percentage of tumor images: {(len(dft) / len(ds)):.2%}')"
   ]
  },
  {
   "cell_type": "code",
   "execution_count": 51,
   "metadata": {},
   "outputs": [
    {
     "data": {
      "image/png": "[encoded data removed]",
      "text/plain": [
       "<Figure size 432x288 with 1 Axes>"
      ]
     },
     "metadata": {
      "needs_background": "light"
     },
     "output_type": "display_data"
    }
   ],
   "source": [
    "fig, ax = plt.subplots()\n",
    "ax.bar(('Background', 'Liver', 'Tumor'), (len(dfb), len(dfl), len(dft)), color='gold')\n",
    "ax.set_title('Number of images by type in the final dataset')\n",
    "plt.show()"
   ]
  },
  {
   "cell_type": "code",
   "execution_count": 44,
   "metadata": {},
   "outputs": [
    {
     "data": {
      "image/png": "[encoded data removed]",
      "text/plain": [
       "<Figure size 432x288 with 1 Axes>"
      ]
     },
     "metadata": {},
     "output_type": "display_data"
    }
   ],
   "source": [
    "fig, ax = plt.subplots()\n",
    "ax.pie((len(dfb), len(dfl), len(dft)), labels=('Background', 'Liver', 'Tumor'), autopct='%1.1f%%')\n",
    "ax.set_title('Percentage of each image type in the final dataset')\n",
    "plt.show()"
   ]
  },
  {
   "cell_type": "code",
   "execution_count": 46,
   "metadata": {},
   "outputs": [],
   "source": [
    "from sklearn.model_selection import train_test_split"
   ]
  },
  {
   "cell_type": "code",
   "execution_count": 47,
   "metadata": {},
   "outputs": [],
   "source": [
    "# Create separate train, test and validation DataFrame \n",
    "# for each image type in order to preserve their ratio\n",
    "\n",
    "# 80% train, 15% val, 5% test\n",
    "dft_train, dft_val = train_test_split(dft, test_size=.2)\n",
    "dfc_train, dfc_val = train_test_split(dfl, test_size=.2)\n",
    "dfb_train, dfb_val = train_test_split(dfb, test_size=.2)\n",
    "\n",
    "dft_val, dft_test = train_test_split(dft_val, test_size=.25)\n",
    "dfc_val, dfc_test = train_test_split(dfc_val, test_size=.25)\n",
    "dfb_val, dfb_test = train_test_split(dfb_val, test_size=.25)"
   ]
  },
  {
   "cell_type": "code",
   "execution_count": 68,
   "metadata": {},
   "outputs": [],
   "source": [
    "# Setup output folders\n",
    "root = Path('liver-segmentation')\n",
    "root.mkdir(exist_ok=True)\n",
    "\n",
    "train_dir = (root / 'train')\n",
    "val_dir = (root / 'val')\n",
    "test_dir = (root / 'test')\n",
    "\n",
    "train_dir.mkdir(exist_ok=True)\n",
    "val_dir.mkdir(exist_ok=True)\n",
    "test_dir.mkdir(exist_ok=True)"
   ]
  },
  {
   "cell_type": "code",
   "execution_count": 93,
   "metadata": {},
   "outputs": [],
   "source": [
    "from itertools import chain\n",
    "\n",
    "# Generate the training images and annotations\n",
    "tr_im = train_dir / 'images'\n",
    "tr_mask = train_dir / 'masks'\n",
    "\n",
    "tr_im.mkdir(exist_ok=True)\n",
    "tr_mask.mkdir(exist_ok=True)\n",
    "\n",
    "for index, row in chain(dft_train.iterrows(), dfc_train.iterrows(), dfb_train.iterrows()):\n",
    "\n",
    "    shutil.copy(row['filepath'], tr_im)\n",
    "    shutil.copy(row['maskpath'], tr_mask)\n"
   ]
  },
  {
   "cell_type": "code",
   "execution_count": null,
   "metadata": {},
   "outputs": [],
   "source": [
    "# Generate the validation images and annotations\n",
    "val_im = val_dir / 'images'\n",
    "val_mask = val_dir / 'masks'\n",
    "\n",
    "val_im.mkdir(exist_ok=True)\n",
    "val_mask.mkdir(exist_ok=True)\n",
    "\n",
    "for index, row in chain(dft_val.iterrows(), dfc_val.iterrows(), dfb_val.iterrows()):\n",
    "\n",
    "    shutil.copy(row['filepath'], val_im)\n",
    "    shutil.copy(row['maskpath'], val_mask)"
   ]
  },
  {
   "cell_type": "code",
   "execution_count": null,
   "metadata": {},
   "outputs": [],
   "source": [
    "# Generate the testing images and annotations\n",
    "test_im = test_dir / 'images'\n",
    "test_mask = test_dir / 'masks'\n",
    "\n",
    "test_im.mkdir(exist_ok=True)\n",
    "test_mask.mkdir(exist_ok=True)\n",
    "\n",
    "for index, row in chain(dft_test.iterrows(), dfc_test.iterrows(), dfb_test.iterrows()):\n",
    "\n",
    "    shutil.copy(row['filepath'], test_im)\n",
    "    shutil.copy(row['maskpath'], test_mask)"
   ]
  }
 ],
 "metadata": {
  "interpreter": {
   "hash": "1351121b9c8efc0caf9c935a68e14c7b31d2d9a9997ae9d266b6778d902474e4"
  },
  "kernelspec": {
   "display_name": "Python 3.8.13 ('scaleflex')",
   "language": "python",
   "name": "python3"
  },
  "language_info": {
   "codemirror_mode": {
    "name": "ipython",
    "version": 3
   },
   "file_extension": ".py",
   "mimetype": "text/x-python",
   "name": "python",
   "nbconvert_exporter": "python",
   "pygments_lexer": "ipython3",
   "version": "3.8.13"
  },
  "orig_nbformat": 4
 },
 "nbformat": 4,
 "nbformat_minor": 2
}
